{
 "cells": [
  {
   "cell_type": "markdown",
   "metadata": {},
   "source": [
    "Dataset from Canvas (`Titanic_Passengers.csv`)"
   ]
  },
  {
   "cell_type": "code",
   "execution_count": 27,
   "metadata": {},
   "outputs": [
    {
     "data": {
      "text/html": [
       "<div>\n",
       "<style scoped>\n",
       "    .dataframe tbody tr th:only-of-type {\n",
       "        vertical-align: middle;\n",
       "    }\n",
       "\n",
       "    .dataframe tbody tr th {\n",
       "        vertical-align: top;\n",
       "    }\n",
       "\n",
       "    .dataframe thead th {\n",
       "        text-align: right;\n",
       "    }\n",
       "</style>\n",
       "<table border=\"1\" class=\"dataframe\">\n",
       "  <thead>\n",
       "    <tr style=\"text-align: right;\">\n",
       "      <th></th>\n",
       "      <th>Name</th>\n",
       "      <th>Born</th>\n",
       "      <th>Died</th>\n",
       "      <th>Age</th>\n",
       "      <th>Gender</th>\n",
       "      <th>Passenger_Class</th>\n",
       "      <th>Lived_Died</th>\n",
       "      <th>Fare</th>\n",
       "      <th>Fare_decimal</th>\n",
       "    </tr>\n",
       "  </thead>\n",
       "  <tbody>\n",
       "    <tr>\n",
       "      <th>0</th>\n",
       "      <td>DEAN, Miss Elizabeth Gladys Millvina</td>\n",
       "      <td>1912.0</td>\n",
       "      <td>2009.0</td>\n",
       "      <td>0.166667</td>\n",
       "      <td>Female</td>\n",
       "      <td>3</td>\n",
       "      <td>lived</td>\n",
       "      <td>£20             11s             6d</td>\n",
       "      <td>20.58</td>\n",
       "    </tr>\n",
       "    <tr>\n",
       "      <th>1</th>\n",
       "      <td>DANBOM, Master Gilbert Sigvard Emanuel</td>\n",
       "      <td>1911.0</td>\n",
       "      <td>1912.0</td>\n",
       "      <td>0.333333</td>\n",
       "      <td>Male</td>\n",
       "      <td>3</td>\n",
       "      <td>died</td>\n",
       "      <td>£14             8s</td>\n",
       "      <td>14.40</td>\n",
       "    </tr>\n",
       "    <tr>\n",
       "      <th>2</th>\n",
       "      <td>TANNūS, Master As'ad</td>\n",
       "      <td>1911.0</td>\n",
       "      <td>1931.0</td>\n",
       "      <td>0.416667</td>\n",
       "      <td>Male</td>\n",
       "      <td>3</td>\n",
       "      <td>lived</td>\n",
       "      <td>£8             10s             4d</td>\n",
       "      <td>8.52</td>\n",
       "    </tr>\n",
       "    <tr>\n",
       "      <th>3</th>\n",
       "      <td>PEACOCK, Master Albert Edward</td>\n",
       "      <td>1911.0</td>\n",
       "      <td>1912.0</td>\n",
       "      <td>0.583333</td>\n",
       "      <td>Male</td>\n",
       "      <td>3</td>\n",
       "      <td>died</td>\n",
       "      <td>£13             15s             6d</td>\n",
       "      <td>13.78</td>\n",
       "    </tr>\n",
       "    <tr>\n",
       "      <th>4</th>\n",
       "      <td>RICHARDS, Master Sibley George</td>\n",
       "      <td>1911.0</td>\n",
       "      <td>1987.0</td>\n",
       "      <td>0.750000</td>\n",
       "      <td>Male</td>\n",
       "      <td>2</td>\n",
       "      <td>lived</td>\n",
       "      <td>£18             15s</td>\n",
       "      <td>18.75</td>\n",
       "    </tr>\n",
       "  </tbody>\n",
       "</table>\n",
       "</div>"
      ],
      "text/plain": [
       "                                     Name    Born    Died       Age  Gender  \\\n",
       "0    DEAN, Miss Elizabeth Gladys Millvina  1912.0  2009.0  0.166667  Female   \n",
       "1  DANBOM, Master Gilbert Sigvard Emanuel  1911.0  1912.0  0.333333    Male   \n",
       "2                    TANNūS, Master As'ad  1911.0  1931.0  0.416667    Male   \n",
       "3           PEACOCK, Master Albert Edward  1911.0  1912.0  0.583333    Male   \n",
       "4          RICHARDS, Master Sibley George  1911.0  1987.0  0.750000    Male   \n",
       "\n",
       "   Passenger_Class Lived_Died                                Fare  \\\n",
       "0                3      lived  £20             11s             6d   \n",
       "1                3       died                  £14             8s   \n",
       "2                3      lived   £8             10s             4d   \n",
       "3                3       died  £13             15s             6d   \n",
       "4                2      lived                 £18             15s   \n",
       "\n",
       "   Fare_decimal  \n",
       "0         20.58  \n",
       "1         14.40  \n",
       "2          8.52  \n",
       "3         13.78  \n",
       "4         18.75  "
      ]
     },
     "execution_count": 27,
     "metadata": {},
     "output_type": "execute_result"
    }
   ],
   "source": [
    "import pandas as pd\n",
    "passengers_df = pd.read_csv('../data/Titanic_Passengers.csv')\n",
    "passengers_df.head()"
   ]
  },
  {
   "cell_type": "markdown",
   "metadata": {},
   "source": [
    "- What kind of data is the `dependent` variable?\n",
    "\t- \n",
    "- What kind of data is the `gender` (indep. variable)\n",
    "\t- Nominal\n",
    "\n",
    "Two types:\n",
    "- `Ordinal` data. Data tjat can be ordered\n",
    "- `Categorical/nominal`. Data that cannot be ordered"
   ]
  },
  {
   "cell_type": "code",
   "execution_count": 28,
   "metadata": {},
   "outputs": [
    {
     "name": "stdout",
     "output_type": "stream",
     "text": [
      "Lived_Died  died  lived\n",
      "Gender                 \n",
      "Female       143    339\n",
      "Male         709    161\n"
     ]
    }
   ],
   "source": [
    "# Margins = True will show the summary \n",
    "contingency_table = pd.crosstab(passengers_df['Gender'], passengers_df['Lived_Died'])\n",
    "print(contingency_table)"
   ]
  },
  {
   "cell_type": "code",
   "execution_count": 29,
   "metadata": {},
   "outputs": [
    {
     "data": {
      "text/plain": [
       "<Axes: xlabel='Gender'>"
      ]
     },
     "execution_count": 29,
     "metadata": {},
     "output_type": "execute_result"
    },
    {
     "data": {
      "image/png": "[encoded data removed]",
      "text/plain": [
       "<Figure size 640x480 with 1 Axes>"
      ]
     },
     "metadata": {},
     "output_type": "display_data"
    }
   ],
   "source": [
    "# Task: Create a stacked bar chart showing the number of passenger by gender that lived or died\n",
    "import matplotlib.pyplot as plt\n",
    "import seaborn as sns\n",
    "contingency_table.plot(kind='bar', stacked=True)\n",
    "\n",
    "                       "
   ]
  },
  {
   "cell_type": "code",
   "execution_count": 30,
   "metadata": {},
   "outputs": [
    {
     "name": "stdout",
     "output_type": "stream",
     "text": [
      "Chi2ContingencyResult(statistic=355.24355436145913, pvalue=3.0570688722545846e-79, dof=1, expected_freq=array([[303.74556213, 178.25443787],\n",
      "       [548.25443787, 321.74556213]]))\n"
     ]
    }
   ],
   "source": [
    "from scipy import stats # for chi2_contingency\n",
    "print(stats.chi2_contingency(contingency_table.iloc[0:3]))\n",
    "\n",
    "# you get 3 values back:\n",
    "# 1) Chi-Squared: The higher the chi-squared statstics, the less likelihood that observed values were the result of pure chance\n",
    "# 2) Target P-value (0.05): If the p-value is less than 0.05, then we can reject the null hypothesis that the variables are independent.\n",
    "# 3) Degrees of freedom: 1 degree of freedom. (2 rows -1) * (2 columns -1) = 1"
   ]
  },
  {
   "cell_type": "markdown",
   "metadata": {},
   "source": [
    "## Chi-Square Example: Was Age relevant?"
   ]
  },
  {
   "cell_type": "code",
   "execution_count": 31,
   "metadata": {},
   "outputs": [
    {
     "data": {
      "text/html": [
       "<div>\n",
       "<style scoped>\n",
       "    .dataframe tbody tr th:only-of-type {\n",
       "        vertical-align: middle;\n",
       "    }\n",
       "\n",
       "    .dataframe tbody tr th {\n",
       "        vertical-align: top;\n",
       "    }\n",
       "\n",
       "    .dataframe thead th {\n",
       "        text-align: right;\n",
       "    }\n",
       "</style>\n",
       "<table border=\"1\" class=\"dataframe\">\n",
       "  <thead>\n",
       "    <tr style=\"text-align: right;\">\n",
       "      <th></th>\n",
       "      <th>Name</th>\n",
       "      <th>Born</th>\n",
       "      <th>Died</th>\n",
       "      <th>Age</th>\n",
       "      <th>Gender</th>\n",
       "      <th>Passenger_Class</th>\n",
       "      <th>Lived_Died</th>\n",
       "      <th>Fare</th>\n",
       "      <th>Fare_decimal</th>\n",
       "    </tr>\n",
       "  </thead>\n",
       "  <tbody>\n",
       "    <tr>\n",
       "      <th>0</th>\n",
       "      <td>DEAN, Miss Elizabeth Gladys Millvina</td>\n",
       "      <td>1912.0</td>\n",
       "      <td>2009.0</td>\n",
       "      <td>0.166667</td>\n",
       "      <td>Female</td>\n",
       "      <td>3</td>\n",
       "      <td>lived</td>\n",
       "      <td>£20             11s             6d</td>\n",
       "      <td>20.58</td>\n",
       "    </tr>\n",
       "    <tr>\n",
       "      <th>1</th>\n",
       "      <td>DANBOM, Master Gilbert Sigvard Emanuel</td>\n",
       "      <td>1911.0</td>\n",
       "      <td>1912.0</td>\n",
       "      <td>0.333333</td>\n",
       "      <td>Male</td>\n",
       "      <td>3</td>\n",
       "      <td>died</td>\n",
       "      <td>£14             8s</td>\n",
       "      <td>14.40</td>\n",
       "    </tr>\n",
       "    <tr>\n",
       "      <th>2</th>\n",
       "      <td>TANNūS, Master As'ad</td>\n",
       "      <td>1911.0</td>\n",
       "      <td>1931.0</td>\n",
       "      <td>0.416667</td>\n",
       "      <td>Male</td>\n",
       "      <td>3</td>\n",
       "      <td>lived</td>\n",
       "      <td>£8             10s             4d</td>\n",
       "      <td>8.52</td>\n",
       "    </tr>\n",
       "    <tr>\n",
       "      <th>3</th>\n",
       "      <td>PEACOCK, Master Albert Edward</td>\n",
       "      <td>1911.0</td>\n",
       "      <td>1912.0</td>\n",
       "      <td>0.583333</td>\n",
       "      <td>Male</td>\n",
       "      <td>3</td>\n",
       "      <td>died</td>\n",
       "      <td>£13             15s             6d</td>\n",
       "      <td>13.78</td>\n",
       "    </tr>\n",
       "    <tr>\n",
       "      <th>4</th>\n",
       "      <td>RICHARDS, Master Sibley George</td>\n",
       "      <td>1911.0</td>\n",
       "      <td>1987.0</td>\n",
       "      <td>0.750000</td>\n",
       "      <td>Male</td>\n",
       "      <td>2</td>\n",
       "      <td>lived</td>\n",
       "      <td>£18             15s</td>\n",
       "      <td>18.75</td>\n",
       "    </tr>\n",
       "  </tbody>\n",
       "</table>\n",
       "</div>"
      ],
      "text/plain": [
       "                                     Name    Born    Died       Age  Gender  \\\n",
       "0    DEAN, Miss Elizabeth Gladys Millvina  1912.0  2009.0  0.166667  Female   \n",
       "1  DANBOM, Master Gilbert Sigvard Emanuel  1911.0  1912.0  0.333333    Male   \n",
       "2                    TANNūS, Master As'ad  1911.0  1931.0  0.416667    Male   \n",
       "3           PEACOCK, Master Albert Edward  1911.0  1912.0  0.583333    Male   \n",
       "4          RICHARDS, Master Sibley George  1911.0  1987.0  0.750000    Male   \n",
       "\n",
       "   Passenger_Class Lived_Died                                Fare  \\\n",
       "0                3      lived  £20             11s             6d   \n",
       "1                3       died                  £14             8s   \n",
       "2                3      lived   £8             10s             4d   \n",
       "3                3       died  £13             15s             6d   \n",
       "4                2      lived                 £18             15s   \n",
       "\n",
       "   Fare_decimal  \n",
       "0         20.58  \n",
       "1         14.40  \n",
       "2          8.52  \n",
       "3         13.78  \n",
       "4         18.75  "
      ]
     },
     "execution_count": 31,
     "metadata": {},
     "output_type": "execute_result"
    }
   ],
   "source": [
    "# first check the age column it is already fixed to be the age at the time of the accident\n",
    "passengers_df.head()\n",
    "# what about null values?"
   ]
  },
  {
   "cell_type": "code",
   "execution_count": 32,
   "metadata": {},
   "outputs": [
    {
     "name": "stdout",
     "output_type": "stream",
     "text": [
      "Lived_Died  died  lived\n",
      "Age_Group              \n",
      "(0, 10]       46     54\n",
      "(10, 20]     156     71\n",
      "(20, 30]     286    166\n",
      "(30, 40]     158    107\n",
      "(40, 50]     111     64\n",
      "(50, 60]      40     30\n",
      "(60, 70]      27      7\n",
      "(70, 80]       5      0\n",
      "Chi2-Stats: Chi2ContingencyResult(statistic=24.465546982751874, pvalue=0.0009433264132943263, dof=7, expected_freq=array([[ 62.4246988 ,  37.5753012 ],\n",
      "       [141.70406627,  85.29593373],\n",
      "       [282.15963855, 169.84036145],\n",
      "       [165.42545181,  99.57454819],\n",
      "       [109.24322289,  65.75677711],\n",
      "       [ 43.69728916,  26.30271084],\n",
      "       [ 21.22439759,  12.77560241],\n",
      "       [  3.12123494,   1.87876506]]))\n"
     ]
    },
    {
     "data": {
      "text/plain": [
       "<Axes: xlabel='Age_Group'>"
      ]
     },
     "execution_count": 32,
     "metadata": {},
     "output_type": "execute_result"
    },
    {
     "data": {
      "image/png": "[encoded data removed]",
      "text/plain": [
       "<Figure size 640x480 with 1 Axes>"
      ]
     },
     "metadata": {},
     "output_type": "display_data"
    }
   ],
   "source": [
    "# Create bins for age 0-10 11-20 21-30 31-40 41-50 51-60 61-70 71-80\n",
    "passengers_df['Age_Group'] = pd.cut(passengers_df['Age'], range(0, 81, 10))\n",
    "contingency_table = pd.crosstab(passengers_df['Age_Group'], passengers_df['Lived_Died'])\n",
    "print(contingency_table)\n",
    "print(f'Chi2-Stats: {stats.chi2_contingency(contingency_table)}')\n",
    "# Plot it \n",
    "contingency_table.plot(kind='bar')\n"
   ]
  },
  {
   "cell_type": "code",
   "execution_count": 33,
   "metadata": {},
   "outputs": [],
   "source": [
    "# Create a heat map \n",
    "passengers_df['Age_Group'] = pd.cut(passengers_df['Age'], range(0, 81, 10))\n",
    "# Use a pivot table"
   ]
  },
  {
   "cell_type": "code",
   "execution_count": 34,
   "metadata": {},
   "outputs": [
    {
     "data": {
      "text/plain": [
       "Index(['Name', 'Born', 'Died', 'Age', 'Gender', 'Passenger_Class',\n",
       "       'Lived_Died', 'Fare', 'Fare_decimal'],\n",
       "      dtype='object')"
      ]
     },
     "execution_count": 34,
     "metadata": {},
     "output_type": "execute_result"
    }
   ],
   "source": [
    "import seaborn as sns\n",
    "import matplotlib.pyplot as plt\n",
    "import pandas as pd\n",
    "%matplotlib inline\n",
    "from sklearn import preprocessing\n",
    "# load data\n",
    "passengers_df = pd.read_csv('../data/Titanic_Passengers.csv')\n",
    "passengers_df.columns\n"
   ]
  },
  {
   "cell_type": "code",
   "execution_count": 35,
   "metadata": {},
   "outputs": [
    {
     "name": "stderr",
     "output_type": "stream",
     "text": [
      "C:\\Users\\18019\\AppData\\Local\\Temp\\ipykernel_13272\\3010212447.py:8: FutureWarning: The default value of observed=False is deprecated and will change to observed=True in a future version of pandas. Specify observed=False to silence this warning and retain the current behavior\n",
      "  pivot_table = pd.pivot_table(passengers_df, values='Lived_Died_int', index=['Gender'], columns=['Age_Groups']) # use a pivot table\n",
      "C:\\Users\\18019\\AppData\\Local\\Temp\\ipykernel_13272\\3010212447.py:9: FutureWarning: DataFrame.applymap has been deprecated. Use DataFrame.map instead.\n",
      "  pivot_table.applymap(lambda x: 'Lived' if x == 1 else 'Died') # map the values to Lived or Died\n"
     ]
    },
    {
     "data": {
      "text/plain": [
       "(array([0.5, 1.5, 2.5, 3.5, 4.5, 5.5, 6.5, 7.5]),\n",
       " [Text(0.5, 0, '0-9'),\n",
       "  Text(1.5, 0, '10-19'),\n",
       "  Text(2.5, 0, '20-29'),\n",
       "  Text(3.5, 0, '30-39'),\n",
       "  Text(4.5, 0, '40-49'),\n",
       "  Text(5.5, 0, '50-59'),\n",
       "  Text(6.5, 0, '60-69'),\n",
       "  Text(7.5, 0, '70-79')])"
      ]
     },
     "execution_count": 35,
     "metadata": {},
     "output_type": "execute_result"
    },
    {
     "data": {
      "image/png": "[encoded data removed]",
      "text/plain": [
       "<Figure size 1000x600 with 2 Axes>"
      ]
     },
     "metadata": {},
     "output_type": "display_data"
    }
   ],
   "source": [
    "# Drop the columns that are not needed\n",
    "passengers_df = passengers_df.drop(['Name', 'Born', 'Died', 'Fare', 'Fare_decimal', 'Passenger_Class'], axis=1)\n",
    "passengers_df.dropna(inplace=True) # drop rows with missing values\n",
    "# Encode the categorical columns\n",
    "le = preprocessing.LabelEncoder()\n",
    "passengers_df['Lived_Died_int'] = le.fit_transform(passengers_df['Lived_Died'])\n",
    "passengers_df['Age_Groups'] = pd.cut(passengers_df['Age'], bins=range(0, 90, 10)) # create age bins\n",
    "pivot_table = pd.pivot_table(passengers_df, values='Lived_Died_int', index=['Gender'], columns=['Age_Groups']) # use a pivot table\n",
    "pivot_table.applymap(lambda x: 'Lived' if x == 1 else 'Died') # map the values to Lived or Died\n",
    "# create a heatmap\n",
    "plt.figure(figsize=(10, 6))\n",
    "x_axis_labels = ['0-9', '10-19', '20-29', '30-39', '40-49', '50-59', '60-69', '70-79']\n",
    "sns.heatmap(pivot_table, annot=True,yticklabels=['Female', 'Male'], xticklabels=x_axis_labels, fmt=\".0f\", cmap='coolwarm')\n",
    "plt.title('Heatmap Comparing Age and Gender to Survival on the Titanic')\n",
    "plt.xticks(rotation=90)"
   ]
  },
  {
   "cell_type": "markdown",
   "metadata": {},
   "source": [
    "## TASK: Did the Titanic Passenger Class Affect Suvivorship?"
   ]
  },
  {
   "cell_type": "code",
   "execution_count": 36,
   "metadata": {},
   "outputs": [
    {
     "data": {
      "text/html": [
       "<div>\n",
       "<style scoped>\n",
       "    .dataframe tbody tr th:only-of-type {\n",
       "        vertical-align: middle;\n",
       "    }\n",
       "\n",
       "    .dataframe tbody tr th {\n",
       "        vertical-align: top;\n",
       "    }\n",
       "\n",
       "    .dataframe thead th {\n",
       "        text-align: right;\n",
       "    }\n",
       "</style>\n",
       "<table border=\"1\" class=\"dataframe\">\n",
       "  <thead>\n",
       "    <tr style=\"text-align: right;\">\n",
       "      <th></th>\n",
       "      <th>Name</th>\n",
       "      <th>Born</th>\n",
       "      <th>Died</th>\n",
       "      <th>Age</th>\n",
       "      <th>Gender</th>\n",
       "      <th>Passenger_Class</th>\n",
       "      <th>Lived_Died</th>\n",
       "      <th>Fare</th>\n",
       "      <th>Fare_decimal</th>\n",
       "    </tr>\n",
       "  </thead>\n",
       "  <tbody>\n",
       "    <tr>\n",
       "      <th>0</th>\n",
       "      <td>DEAN, Miss Elizabeth Gladys Millvina</td>\n",
       "      <td>1912.0</td>\n",
       "      <td>2009.0</td>\n",
       "      <td>0.166667</td>\n",
       "      <td>Female</td>\n",
       "      <td>3</td>\n",
       "      <td>lived</td>\n",
       "      <td>£20             11s             6d</td>\n",
       "      <td>20.58</td>\n",
       "    </tr>\n",
       "    <tr>\n",
       "      <th>1</th>\n",
       "      <td>DANBOM, Master Gilbert Sigvard Emanuel</td>\n",
       "      <td>1911.0</td>\n",
       "      <td>1912.0</td>\n",
       "      <td>0.333333</td>\n",
       "      <td>Male</td>\n",
       "      <td>3</td>\n",
       "      <td>died</td>\n",
       "      <td>£14             8s</td>\n",
       "      <td>14.40</td>\n",
       "    </tr>\n",
       "    <tr>\n",
       "      <th>2</th>\n",
       "      <td>TANNūS, Master As'ad</td>\n",
       "      <td>1911.0</td>\n",
       "      <td>1931.0</td>\n",
       "      <td>0.416667</td>\n",
       "      <td>Male</td>\n",
       "      <td>3</td>\n",
       "      <td>lived</td>\n",
       "      <td>£8             10s             4d</td>\n",
       "      <td>8.52</td>\n",
       "    </tr>\n",
       "    <tr>\n",
       "      <th>3</th>\n",
       "      <td>PEACOCK, Master Albert Edward</td>\n",
       "      <td>1911.0</td>\n",
       "      <td>1912.0</td>\n",
       "      <td>0.583333</td>\n",
       "      <td>Male</td>\n",
       "      <td>3</td>\n",
       "      <td>died</td>\n",
       "      <td>£13             15s             6d</td>\n",
       "      <td>13.78</td>\n",
       "    </tr>\n",
       "    <tr>\n",
       "      <th>4</th>\n",
       "      <td>RICHARDS, Master Sibley George</td>\n",
       "      <td>1911.0</td>\n",
       "      <td>1987.0</td>\n",
       "      <td>0.750000</td>\n",
       "      <td>Male</td>\n",
       "      <td>2</td>\n",
       "      <td>lived</td>\n",
       "      <td>£18             15s</td>\n",
       "      <td>18.75</td>\n",
       "    </tr>\n",
       "  </tbody>\n",
       "</table>\n",
       "</div>"
      ],
      "text/plain": [
       "                                     Name    Born    Died       Age  Gender  \\\n",
       "0    DEAN, Miss Elizabeth Gladys Millvina  1912.0  2009.0  0.166667  Female   \n",
       "1  DANBOM, Master Gilbert Sigvard Emanuel  1911.0  1912.0  0.333333    Male   \n",
       "2                    TANNūS, Master As'ad  1911.0  1931.0  0.416667    Male   \n",
       "3           PEACOCK, Master Albert Edward  1911.0  1912.0  0.583333    Male   \n",
       "4          RICHARDS, Master Sibley George  1911.0  1987.0  0.750000    Male   \n",
       "\n",
       "   Passenger_Class Lived_Died                                Fare  \\\n",
       "0                3      lived  £20             11s             6d   \n",
       "1                3       died                  £14             8s   \n",
       "2                3      lived   £8             10s             4d   \n",
       "3                3       died  £13             15s             6d   \n",
       "4                2      lived                 £18             15s   \n",
       "\n",
       "   Fare_decimal  \n",
       "0         20.58  \n",
       "1         14.40  \n",
       "2          8.52  \n",
       "3         13.78  \n",
       "4         18.75  "
      ]
     },
     "execution_count": 36,
     "metadata": {},
     "output_type": "execute_result"
    }
   ],
   "source": [
    "import seaborn as sns\n",
    "import matplotlib.pyplot as plt\n",
    "import pandas as pd\n",
    "%matplotlib inline\n",
    "from sklearn import preprocessing\n",
    "passengers_df = pd.read_csv('../data/Titanic_Passengers.csv')# load data\n",
    "passengers_df.head()"
   ]
  },
  {
   "cell_type": "code",
   "execution_count": 37,
   "metadata": {},
   "outputs": [
    {
     "data": {
      "image/png": "[encoded data removed]",
      "text/plain": [
       "<Figure size 640x480 with 1 Axes>"
      ]
     },
     "metadata": {},
     "output_type": "display_data"
    }
   ],
   "source": [
    "# create a stack plot to compare the passenger class to the number of passengers that lived or died\n",
    "contingency_table = pd.crosstab( passengers_df['Lived_Died'], passengers_df['Passenger_Class'],margins=False)\n",
    "contingency_table.plot(kind='bar', stacked=True)\n",
    "plt.title('Number of Passengers that Lived or Died by Passenger Class')\n",
    "plt.ylabel('Number of Passengers')\n",
    "plt.xlabel('Lived_Died')\n",
    "plt.show()\n",
    "\n"
   ]
  },
  {
   "cell_type": "code",
   "execution_count": 38,
   "metadata": {},
   "outputs": [
    {
     "data": {
      "text/plain": [
       "(104.05195288933228, 2.543346399916496e-23, 2)"
      ]
     },
     "execution_count": 38,
     "metadata": {},
     "output_type": "execute_result"
    }
   ],
   "source": [
    "# run a chi2_contingency on the table\n",
    "contingency_table = pd.crosstab( passengers_df['Passenger_Class'],passengers_df['Lived_Died'], margins=False)\n",
    "stats.chi2_contingency(contingency_table)[0:3]"
   ]
  },
  {
   "cell_type": "markdown",
   "metadata": {},
   "source": [
    "Which passenger class is responsible for the significant difference in survial rate?\n",
    "- Chi-square test offers that at least `one` of the passenger class is different from what we would expect if the variables were independent\n",
    "- Since this is our first test, it is consider a `Priori Test`\n",
    "- To contuinue our analysis, we will run another test, `Post Hoc` Test\n"
   ]
  },
  {
   "cell_type": "markdown",
   "metadata": {},
   "source": [
    "### Post-Hoc Test (Fisher's Exact Test)\n",
    "\n",
    "- Compare every passenger class to every other class to see if there is statistical signifiacnce vetween the two.\n",
    "- We could apply a `Chi-Square` for each of the three separate comparison, but our sample data is too small.\n",
    "- In this case, `Fisher's Exact` test is a better option\n"
   ]
  },
  {
   "cell_type": "code",
   "execution_count": 39,
   "metadata": {},
   "outputs": [
    {
     "data": {
      "text/html": [
       "<div>\n",
       "<style scoped>\n",
       "    .dataframe tbody tr th:only-of-type {\n",
       "        vertical-align: middle;\n",
       "    }\n",
       "\n",
       "    .dataframe tbody tr th {\n",
       "        vertical-align: top;\n",
       "    }\n",
       "\n",
       "    .dataframe thead th {\n",
       "        text-align: right;\n",
       "    }\n",
       "</style>\n",
       "<table border=\"1\" class=\"dataframe\">\n",
       "  <thead>\n",
       "    <tr style=\"text-align: right;\">\n",
       "      <th>Lived_Died</th>\n",
       "      <th>died</th>\n",
       "      <th>lived</th>\n",
       "    </tr>\n",
       "    <tr>\n",
       "      <th>Passenger_Class</th>\n",
       "      <th></th>\n",
       "      <th></th>\n",
       "    </tr>\n",
       "  </thead>\n",
       "  <tbody>\n",
       "    <tr>\n",
       "      <th>1</th>\n",
       "      <td>149</td>\n",
       "      <td>201</td>\n",
       "    </tr>\n",
       "    <tr>\n",
       "      <th>2</th>\n",
       "      <td>175</td>\n",
       "      <td>118</td>\n",
       "    </tr>\n",
       "    <tr>\n",
       "      <th>3</th>\n",
       "      <td>528</td>\n",
       "      <td>181</td>\n",
       "    </tr>\n",
       "  </tbody>\n",
       "</table>\n",
       "</div>"
      ],
      "text/plain": [
       "Lived_Died       died  lived\n",
       "Passenger_Class             \n",
       "1                 149    201\n",
       "2                 175    118\n",
       "3                 528    181"
      ]
     },
     "execution_count": 39,
     "metadata": {},
     "output_type": "execute_result"
    }
   ],
   "source": [
    "import seaborn as sns\n",
    "import matplotlib.pyplot as plt\n",
    "import pandas as pd\n",
    "%matplotlib inline\n",
    "from sklearn import preprocessing\n",
    "passengers_df = pd.read_csv('../data/Titanic_Passengers.csv')# load data\n",
    "contingency_table = pd.crosstab( passengers_df['Passenger_Class'],passengers_df['Lived_Died'], margins=False)\n",
    "contingency_table"
   ]
  },
  {
   "cell_type": "code",
   "execution_count": 40,
   "metadata": {},
   "outputs": [
    {
     "name": "stdout",
     "output_type": "stream",
     "text": [
      "First vs Second Class: 1.827149276703859e-05\n",
      "First vs Third Class: 7.457205699022123e-24\n",
      "Second vs Third Class: 5.007621820657881e-06\n"
     ]
    }
   ],
   "source": [
    "first_class = contingency_table.iloc[0].values # extract the first row\n",
    "second_class = contingency_table.iloc[1].values # extract the second row\n",
    "third_class = contingency_table.iloc[2].values # extract the third row\n",
    "# create a Fisher's Exact test\n",
    "from scipy.stats import fisher_exact\n",
    "oddsratio, pvalue = fisher_exact([first_class, second_class]) # compare first and second class\n",
    "print(f'First vs Second Class: {pvalue}')\n",
    "oddsratio, pvalue = fisher_exact([first_class, third_class]) # compare first and third class\n",
    "print(f'First vs Third Class: {pvalue}')\n",
    "oddsratio, pvalue = fisher_exact([second_class, third_class]) # compare second and third class\n",
    "print(f'Second vs Third Class: {pvalue}')\n"
   ]
  },
  {
   "cell_type": "markdown",
   "metadata": {},
   "source": [
    "Each of the Fisher's test revea;s statistical\n",
    "\n",
    "Another way to conceptualize the result is to look at percentages:\n",
    "\n",
    "| Passenger Class   |   Died    |\n",
    "|-------------------|-----------|\n",
    "| First Class       |   43%    |\n",
    "| Second Class      |   60%    |\n",
    "| Third Class       |   74%    |\n",
    "\n",
    "TODO: Create a heatmap of Passenger Class split in Age_Ranges by Gender and survival rate\n",
    "\n",
    "\n"
   ]
  },
  {
   "cell_type": "code",
   "execution_count": null,
   "metadata": {},
   "outputs": [],
   "source": []
  },
  {
   "cell_type": "code",
   "execution_count": 41,
   "metadata": {},
   "outputs": [
    {
     "name": "stderr",
     "output_type": "stream",
     "text": [
      "C:\\Users\\18019\\AppData\\Local\\Temp\\ipykernel_13272\\1342154441.py:16: FutureWarning: DataFrame.applymap has been deprecated. Use DataFrame.map instead.\n",
      "  pivot_table.applymap(lambda x: 'Lived' if x == 1 else 'Died') # map the values to Lived or Died\n"
     ]
    },
    {
     "data": {
      "text/plain": [
       "(array([ 0.5,  1.5,  2.5,  3.5,  4.5,  5.5,  6.5,  7.5,  8.5,  9.5, 10.5,\n",
       "        11.5, 12.5, 13.5, 14.5, 15.5, 16.5, 17.5, 18.5, 19.5, 20.5, 21.5,\n",
       "        22.5, 23.5]),\n",
       " [Text(0.5, 0, 'PC 1: 0-9'),\n",
       "  Text(1.5, 0, 'PC 1: 10-19'),\n",
       "  Text(2.5, 0, 'PC 1: 20-29'),\n",
       "  Text(3.5, 0, 'PC 1: 30-39'),\n",
       "  Text(4.5, 0, 'PC 1: 40-49'),\n",
       "  Text(5.5, 0, 'PC 1: 50-59'),\n",
       "  Text(6.5, 0, 'PC 1: 60-69'),\n",
       "  Text(7.5, 0, 'PC 1: 70-79'),\n",
       "  Text(8.5, 0, 'PC 2: 0-9'),\n",
       "  Text(9.5, 0, 'PC 2: 10-19'),\n",
       "  Text(10.5, 0, 'PC 2: 20-29'),\n",
       "  Text(11.5, 0, 'PC 2: 30-39'),\n",
       "  Text(12.5, 0, 'PC 2: 40-49'),\n",
       "  Text(13.5, 0, 'PC 2: 50-59'),\n",
       "  Text(14.5, 0, 'PC 2: 60-69'),\n",
       "  Text(15.5, 0, 'PC 2: 70-79'),\n",
       "  Text(16.5, 0, 'PC 3: 0-9'),\n",
       "  Text(17.5, 0, 'PC 3: 10-19'),\n",
       "  Text(18.5, 0, 'PC 3: 20-29'),\n",
       "  Text(19.5, 0, 'PC 3: 30-39'),\n",
       "  Text(20.5, 0, 'PC 3: 40-49'),\n",
       "  Text(21.5, 0, 'PC 3: 50-59'),\n",
       "  Text(22.5, 0, 'PC 3: 60-69'),\n",
       "  Text(23.5, 0, 'PC 3: 70-79')])"
      ]
     },
     "execution_count": 41,
     "metadata": {},
     "output_type": "execute_result"
    },
    {
     "data": {
      "image/png": "[encoded data removed]",
      "text/plain": [
       "<Figure size 1000x600 with 2 Axes>"
      ]
     },
     "metadata": {},
     "output_type": "display_data"
    }
   ],
   "source": [
    "import seaborn as sns\n",
    "import matplotlib.pyplot as plt\n",
    "import pandas as pd\n",
    "%matplotlib inline\n",
    "from sklearn import preprocessing\n",
    "passengers_df = pd.read_csv('../data/Titanic_Passengers.csv')# load data\n",
    "\n",
    "# Drop the columns that are not needed\n",
    "passengers_df = passengers_df.drop(['Name', 'Born', 'Died', 'Fare', 'Fare_decimal'], axis=1)\n",
    "passengers_df.dropna(inplace=True) # drop rows with missing values\n",
    "# Encode the categorical columns\n",
    "le = preprocessing.LabelEncoder()\n",
    "passengers_df['Lived_Died_int'] = le.fit_transform(passengers_df['Lived_Died'])\n",
    "passengers_df['Age_Groups-Passenger_Class'] = pd.cut(passengers_df['Age'], bins=range(0, 90, 10)).astype(str) + '-PC ' + passengers_df['Passenger_Class'].astype(str)\n",
    "pivot_table = pd.pivot_table(passengers_df, values='Lived_Died_int', index=['Gender'], columns=['Age_Groups-Passenger_Class']) # use a pivot table\n",
    "pivot_table.applymap(lambda x: 'Lived' if x == 1 else 'Died') # map the values to Lived or Died\n",
    "# create a heatmap\n",
    "plt.figure(figsize=(10, 6))\n",
    "x_axis_labels = [\n",
    "\t'PC 1: 0-9', 'PC 1: 10-19', 'PC 1: 20-29', 'PC 1: 30-39', 'PC 1: 40-49', 'PC 1: 50-59', 'PC 1: 60-69', 'PC 1: 70-79',\n",
    "\t'PC 2: 0-9', 'PC 2: 10-19', 'PC 2: 20-29', 'PC 2: 30-39', 'PC 2: 40-49', 'PC 2: 50-59', 'PC 2: 60-69', 'PC 2: 70-79',\n",
    "\t'PC 3: 0-9', 'PC 3: 10-19', 'PC 3: 20-29', 'PC 3: 30-39', 'PC 3: 40-49', 'PC 3: 50-59', 'PC 3: 60-69', 'PC 3: 70-79'\n",
    "]\n",
    "sns.heatmap(pivot_table, annot=True,yticklabels=['Female', 'Male'], xticklabels=x_axis_labels, fmt=\".0f\", cmap='coolwarm')\n",
    "plt.title('Heatmap Comparing Age and Gender to Survival on the Titanic')\n",
    "plt.xticks(rotation=90)"
   ]
  },
  {
   "cell_type": "markdown",
   "metadata": {},
   "source": [
    "### T-Test: Tare \n",
    "\n",
    "While `Chi-Test` and `Fisher-test`\n",
    "\n",
    "### How was Fare(price of passage Affected by Gender and Passenger Class?\n",
    "- Did one gender pay more than the other?\n",
    "- Is there a difference in fare between passanger classes?\n",
    "- Is there an interaction between gender and passenger class on the resulting fare"
   ]
  },
  {
   "cell_type": "code",
   "execution_count": 42,
   "metadata": {},
   "outputs": [],
   "source": [
    "import pandas as pd\n",
    "import seaborn as sns\n",
    "import matplotlib.pyplot as plt\n",
    "from sklearn import preprocessing\n",
    "%matplotlib inline\n",
    "passengers_df = pd.read_csv('../data/Titanic_Passengers.csv')# load data\n"
   ]
  },
  {
   "cell_type": "code",
   "execution_count": 43,
   "metadata": {},
   "outputs": [
    {
     "data": {
      "text/plain": [
       "Text(0.5, 1.0, 'Fare Amount based off gender')"
      ]
     },
     "execution_count": 43,
     "metadata": {},
     "output_type": "execute_result"
    },
    {
     "data": {
      "image/png": "[encoded data removed]",
      "text/plain": [
       "<Figure size 640x480 with 1 Axes>"
      ]
     },
     "metadata": {},
     "output_type": "display_data"
    }
   ],
   "source": [
    "# Visualize the data using boxplots\n",
    "sns.boxplot(x='Gender', y='Fare_decimal', data=passengers_df)\n",
    "plt.ylabel('Fare Amount in Pounds') \n",
    "plt.title('Fare Amount based off gender')\n"
   ]
  },
  {
   "cell_type": "code",
   "execution_count": 44,
   "metadata": {},
   "outputs": [
    {
     "name": "stdout",
     "output_type": "stream",
     "text": [
      "Male Summary\n",
      "count    839.000000\n",
      "mean      26.226067\n",
      "std       42.514485\n",
      "min        1.000000\n",
      "25%        7.895000\n",
      "50%       12.350000\n",
      "75%       26.550000\n",
      "max      512.330000\n",
      "Name: Fare_decimal, dtype: float64\n"
     ]
    }
   ],
   "source": [
    "male = passengers_df[passengers_df['Gender'] == 'Male'] \n",
    "print(f'Male Summary\\n{male[\"Fare_decimal\"].describe()}')"
   ]
  },
  {
   "cell_type": "code",
   "execution_count": 45,
   "metadata": {},
   "outputs": [
    {
     "name": "stdout",
     "output_type": "stream",
     "text": [
      "Female Summary\n",
      "count    482.000000\n",
      "mean      45.118299\n",
      "std       63.149875\n",
      "min        1.000000\n",
      "25%       10.460000\n",
      "50%       21.555000\n",
      "75%       54.525000\n",
      "max      512.330000\n",
      "Name: Fare_decimal, dtype: float64\n"
     ]
    }
   ],
   "source": [
    "female = passengers_df[passengers_df['Gender'] == 'Female']\n",
    "print(f'Female Summary\\n{female['Fare_decimal'].describe()}')"
   ]
  },
  {
   "cell_type": "code",
   "execution_count": 47,
   "metadata": {},
   "outputs": [
    {
     "name": "stdout",
     "output_type": "stream",
     "text": [
      "T-Test for Fare Paid p-value: 6.093364811911871e-13\n"
     ]
    }
   ],
   "source": [
    "from scipy.stats import ttest_ind\n",
    "# drop null values\n",
    "passengers_df.dropna(inplace=True)\n",
    "male = passengers_df[passengers_df['Gender'] == 'Male'] \n",
    "female = passengers_df[passengers_df['Gender'] == 'Female'] \n",
    "# run test\n",
    "statistics, pvalue = ttest_ind(male['Fare_decimal'], female['Fare_decimal'])\n",
    "print(f'T-Test for Fare Paid p-value: {pvalue}')"
   ]
  },
  {
   "cell_type": "markdown",
   "metadata": {},
   "source": [
    "## ANOVA Example: Price Difference Between passenger class \n",
    "- `T-Test` specializes in comparing `two` populations\n",
    "- `ANOVA (Analysis of Variance)` test will allow you to compare the influence of `three or more` populations\n",
    "\n",
    "Fair prices are `contuinuous numerical depedent variable`. They are affected by the three passenger classes.\n",
    "\n",
    "Install new package `statsmodels`\n",
    "```bash\n",
    "conda install statsmodels\n",
    "```"
   ]
  },
  {
   "cell_type": "code",
   "execution_count": 53,
   "metadata": {},
   "outputs": [
    {
     "data": {
      "text/html": [
       "<div>\n",
       "<style scoped>\n",
       "    .dataframe tbody tr th:only-of-type {\n",
       "        vertical-align: middle;\n",
       "    }\n",
       "\n",
       "    .dataframe tbody tr th {\n",
       "        vertical-align: top;\n",
       "    }\n",
       "\n",
       "    .dataframe thead th {\n",
       "        text-align: right;\n",
       "    }\n",
       "</style>\n",
       "<table border=\"1\" class=\"dataframe\">\n",
       "  <thead>\n",
       "    <tr style=\"text-align: right;\">\n",
       "      <th></th>\n",
       "      <th>Name</th>\n",
       "      <th>Born</th>\n",
       "      <th>Died</th>\n",
       "      <th>Age</th>\n",
       "      <th>Gender</th>\n",
       "      <th>Passenger_Class</th>\n",
       "      <th>Lived_Died</th>\n",
       "      <th>Fare</th>\n",
       "      <th>Fare_decimal</th>\n",
       "    </tr>\n",
       "  </thead>\n",
       "  <tbody>\n",
       "    <tr>\n",
       "      <th>0</th>\n",
       "      <td>DEAN, Miss Elizabeth Gladys Millvina</td>\n",
       "      <td>1912.0</td>\n",
       "      <td>2009.0</td>\n",
       "      <td>0.166667</td>\n",
       "      <td>Female</td>\n",
       "      <td>3</td>\n",
       "      <td>lived</td>\n",
       "      <td>£20             11s             6d</td>\n",
       "      <td>20.58</td>\n",
       "    </tr>\n",
       "    <tr>\n",
       "      <th>1</th>\n",
       "      <td>DANBOM, Master Gilbert Sigvard Emanuel</td>\n",
       "      <td>1911.0</td>\n",
       "      <td>1912.0</td>\n",
       "      <td>0.333333</td>\n",
       "      <td>Male</td>\n",
       "      <td>3</td>\n",
       "      <td>died</td>\n",
       "      <td>£14             8s</td>\n",
       "      <td>14.40</td>\n",
       "    </tr>\n",
       "    <tr>\n",
       "      <th>2</th>\n",
       "      <td>TANNūS, Master As'ad</td>\n",
       "      <td>1911.0</td>\n",
       "      <td>1931.0</td>\n",
       "      <td>0.416667</td>\n",
       "      <td>Male</td>\n",
       "      <td>3</td>\n",
       "      <td>lived</td>\n",
       "      <td>£8             10s             4d</td>\n",
       "      <td>8.52</td>\n",
       "    </tr>\n",
       "    <tr>\n",
       "      <th>3</th>\n",
       "      <td>PEACOCK, Master Albert Edward</td>\n",
       "      <td>1911.0</td>\n",
       "      <td>1912.0</td>\n",
       "      <td>0.583333</td>\n",
       "      <td>Male</td>\n",
       "      <td>3</td>\n",
       "      <td>died</td>\n",
       "      <td>£13             15s             6d</td>\n",
       "      <td>13.78</td>\n",
       "    </tr>\n",
       "    <tr>\n",
       "      <th>4</th>\n",
       "      <td>RICHARDS, Master Sibley George</td>\n",
       "      <td>1911.0</td>\n",
       "      <td>1987.0</td>\n",
       "      <td>0.750000</td>\n",
       "      <td>Male</td>\n",
       "      <td>2</td>\n",
       "      <td>lived</td>\n",
       "      <td>£18             15s</td>\n",
       "      <td>18.75</td>\n",
       "    </tr>\n",
       "  </tbody>\n",
       "</table>\n",
       "</div>"
      ],
      "text/plain": [
       "                                     Name    Born    Died       Age  Gender  \\\n",
       "0    DEAN, Miss Elizabeth Gladys Millvina  1912.0  2009.0  0.166667  Female   \n",
       "1  DANBOM, Master Gilbert Sigvard Emanuel  1911.0  1912.0  0.333333    Male   \n",
       "2                    TANNūS, Master As'ad  1911.0  1931.0  0.416667    Male   \n",
       "3           PEACOCK, Master Albert Edward  1911.0  1912.0  0.583333    Male   \n",
       "4          RICHARDS, Master Sibley George  1911.0  1987.0  0.750000    Male   \n",
       "\n",
       "   Passenger_Class Lived_Died                                Fare  \\\n",
       "0                3      lived  £20             11s             6d   \n",
       "1                3       died                  £14             8s   \n",
       "2                3      lived   £8             10s             4d   \n",
       "3                3       died  £13             15s             6d   \n",
       "4                2      lived                 £18             15s   \n",
       "\n",
       "   Fare_decimal  \n",
       "0         20.58  \n",
       "1         14.40  \n",
       "2          8.52  \n",
       "3         13.78  \n",
       "4         18.75  "
      ]
     },
     "execution_count": 53,
     "metadata": {},
     "output_type": "execute_result"
    }
   ],
   "source": [
    "import pandas as pd\n",
    "import matplotlib.pyplot as plt\n",
    "%matplotlib inline\n",
    "import seaborn as sns\n",
    "from statsmodels.formula.api import ols\n",
    "import statsmodels.api as sm\n",
    "# Load data\n",
    "passengers_df = pd.read_csv('../data/Titanic_Passengers.csv')\n",
    "passengers_df.head() # Make sure the data is loaded"
   ]
  },
  {
   "cell_type": "code",
   "execution_count": 59,
   "metadata": {},
   "outputs": [
    {
     "data": {
      "text/html": [
       "<div>\n",
       "<style scoped>\n",
       "    .dataframe tbody tr th:only-of-type {\n",
       "        vertical-align: middle;\n",
       "    }\n",
       "\n",
       "    .dataframe tbody tr th {\n",
       "        vertical-align: top;\n",
       "    }\n",
       "\n",
       "    .dataframe thead th {\n",
       "        text-align: right;\n",
       "    }\n",
       "</style>\n",
       "<table border=\"1\" class=\"dataframe\">\n",
       "  <thead>\n",
       "    <tr style=\"text-align: right;\">\n",
       "      <th></th>\n",
       "      <th>df</th>\n",
       "      <th>sum_sq</th>\n",
       "      <th>mean_sq</th>\n",
       "      <th>F</th>\n",
       "      <th>PR(&gt;F)</th>\n",
       "    </tr>\n",
       "  </thead>\n",
       "  <tbody>\n",
       "    <tr>\n",
       "      <th>C(Passenger_Class)</th>\n",
       "      <td>2.0</td>\n",
       "      <td>1.201111e+06</td>\n",
       "      <td>600555.522821</td>\n",
       "      <td>338.116478</td>\n",
       "      <td>2.964452e-119</td>\n",
       "    </tr>\n",
       "    <tr>\n",
       "      <th>Residual</th>\n",
       "      <td>1318.0</td>\n",
       "      <td>2.341004e+06</td>\n",
       "      <td>1776.179397</td>\n",
       "      <td>NaN</td>\n",
       "      <td>NaN</td>\n",
       "    </tr>\n",
       "  </tbody>\n",
       "</table>\n",
       "</div>"
      ],
      "text/plain": [
       "                        df        sum_sq        mean_sq           F  \\\n",
       "C(Passenger_Class)     2.0  1.201111e+06  600555.522821  338.116478   \n",
       "Residual            1318.0  2.341004e+06    1776.179397         NaN   \n",
       "\n",
       "                           PR(>F)  \n",
       "C(Passenger_Class)  2.964452e-119  \n",
       "Residual                      NaN  "
      ]
     },
     "execution_count": 59,
     "metadata": {},
     "output_type": "execute_result"
    }
   ],
   "source": [
    "# Load your OLS (Ordinary Least Squares) model\n",
    "model = ols('Fare_decimal ~ C(Passenger_Class)', data=passengers_df).fit()\n",
    "# ANOVA table\n",
    "anova_table = sm.stats.anova_lm(model, typ=1) # typ = # is the anova table format\n",
    "anova_table "
   ]
  },
  {
   "cell_type": "markdown",
   "metadata": {},
   "source": [
    "`PR(>F)` is the `p-value`\n",
    "\n",
    "#### ANOVA Notation (R-style Formulas):\n",
    "- The `~` char separates the left side from the right side\n",
    "- The `+` char adds a new separated column to the design matrix\n",
    "- The `:` char adds a new interaction column to the model matrix\n",
    "- The `*` char signifies the both individual cloumns are combined\n",
    "\n",
    "The string: `Fare_decimal ~ C(Passenger_Class)` translates to:\n",
    "- Fare decimal variable is affected by the categroical varuavle (`C`)Passenger Class\n",
    "\n",
    "Conclusion, there is some difference in price relative to the passenger class."
   ]
  },
  {
   "cell_type": "code",
   "execution_count": 61,
   "metadata": {},
   "outputs": [
    {
     "data": {
      "image/png": "[encoded data removed]",
      "text/plain": [
       "<Figure size 640x480 with 1 Axes>"
      ]
     },
     "metadata": {},
     "output_type": "display_data"
    }
   ],
   "source": [
    "# Create a boxplot of the fare paid by passenger class\n",
    "sns.boxplot(x='Passenger_Class', y='Fare_decimal', data=passengers_df)\n",
    "plt.ylabel('Fare Amount in Pounds')\n",
    "plt.title('Fare Amount based off Passenger Class')\n",
    "plt.show()"
   ]
  },
  {
   "cell_type": "markdown",
   "metadata": {},
   "source": [
    "Do a `post-hoc` test on this. For ANOVA we use the `Tukey HSD` test to compare each individual population from a statistically significant ANOVA"
   ]
  },
  {
   "cell_type": "code",
   "execution_count": 67,
   "metadata": {},
   "outputs": [],
   "source": [
    "import pandas as pd\n",
    "import matplotlib.pyplot as plt\n",
    "%matplotlib inline\n",
    "import seaborn as sns\n",
    "from statsmodels.stats.multicomp import MultiComparison\n",
    "from statsmodels.stats.multicomp import pairwise_tukeyhsd\n",
    "# Load data\n",
    "passengers_df = pd.read_csv('../data/Titanic_Passengers.csv')\n",
    "# passengers_df.head() # Make sure the data is loaded\n",
    "# Drop unused columns\n",
    "passengers_df.drop(['Name', 'Born', 'Died', 'Gender', 'Fare', 'Lived_Died'], axis=1, inplace=True)\n",
    "passengers_df.dropna(inplace=True) # drop rows with missing values"
   ]
  },
  {
   "cell_type": "code",
   "execution_count": 73,
   "metadata": {},
   "outputs": [
    {
     "data": {
      "text/html": [
       "<table class=\"simpletable\">\n",
       "<caption>Multiple Comparison of Means - Tukey HSD, FWER=0.05</caption>\n",
       "<tr>\n",
       "  <th>group1</th> <th>group2</th> <th>meandiff</th> <th>p-adj</th>   <th>lower</th>    <th>upper</th>  <th>reject</th>\n",
       "</tr>\n",
       "<tr>\n",
       "     <td>1</td>      <td>2</td>   <td>-64.5942</td>  <td>0.0</td>  <td>-72.6865</td> <td>-56.5018</td>  <td>True</td> \n",
       "</tr>\n",
       "<tr>\n",
       "     <td>1</td>      <td>3</td>   <td>-72.9052</td>  <td>0.0</td>  <td>-79.4909</td> <td>-66.3195</td>  <td>True</td> \n",
       "</tr>\n",
       "<tr>\n",
       "     <td>2</td>      <td>3</td>    <td>-8.311</td>  <td>0.016</td> <td>-15.3695</td>  <td>-1.2525</td>  <td>True</td> \n",
       "</tr>\n",
       "</table>"
      ],
      "text/latex": [
       "\\begin{center}\n",
       "\\begin{tabular}{ccccccc}\n",
       "\\toprule\n",
       "\\textbf{group1} & \\textbf{group2} & \\textbf{meandiff} & \\textbf{p-adj} & \\textbf{lower} & \\textbf{upper} & \\textbf{reject}  \\\\\n",
       "\\midrule\n",
       "       1        &        2        &      -64.5942     &      0.0       &    -72.6865    &    -56.5018    &       True       \\\\\n",
       "       1        &        3        &      -72.9052     &      0.0       &    -79.4909    &    -66.3195    &       True       \\\\\n",
       "       2        &        3        &       -8.311      &     0.016      &    -15.3695    &    -1.2525     &       True       \\\\\n",
       "\\bottomrule\n",
       "\\end{tabular}\n",
       "%\\caption{Multiple Comparison of Means - Tukey HSD, FWER=0.05}\n",
       "\\end{center}"
      ],
      "text/plain": [
       "<class 'statsmodels.iolib.table.SimpleTable'>"
      ]
     },
     "execution_count": 73,
     "metadata": {},
     "output_type": "execute_result"
    }
   ],
   "source": [
    "mc_Hammer = MultiComparison(passengers_df['Fare_decimal'], passengers_df['Passenger_Class'])\n",
    "result = mc_Hammer.tukeyhsd()\n",
    "result.summary()"
   ]
  },
  {
   "cell_type": "markdown",
   "metadata": {},
   "source": [
    "If no statistical significance is found, then the `rejected` column will indicate `False`, that is, the `null-hypothesis` cannot be rejected."
   ]
  },
  {
   "cell_type": "markdown",
   "metadata": {},
   "source": []
  }
 ],
 "metadata": {
  "kernelspec": {
   "display_name": "module6",
   "language": "python",
   "name": "python3"
  },
  "language_info": {
   "codemirror_mode": {
    "name": "ipython",
    "version": 3
   },
   "file_extension": ".py",
   "mimetype": "text/x-python",
   "name": "python",
   "nbconvert_exporter": "python",
   "pygments_lexer": "ipython3",
   "version": "3.12.7"
  }
 },
 "nbformat": 4,
 "nbformat_minor": 2
}
