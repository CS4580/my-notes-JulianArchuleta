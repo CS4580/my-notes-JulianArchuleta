{
 "cells": [
  {
   "cell_type": "markdown",
   "metadata": {},
   "source": [
    "# Data Correlation\n",
    "- Columns that are redundant\n",
    "- Change of value in one column yield an almost constant change in another\n",
    "- Pair have either high(close to 1) or low \n"
   ]
  },
  {
   "cell_type": "code",
   "execution_count": null,
   "metadata": {},
   "outputs": [],
   "source": [
    "# To understand the Data Set use the describe()\n",
    "df_yeast.describe()"
   ]
  },
  {
   "cell_type": "code",
   "execution_count": null,
   "metadata": {},
   "outputs": [],
   "source": [
    "# Get the min(), max(), and std() of the col_04\n",
    "df_yeast['col_04'].describe()"
   ]
  },
  {
   "cell_type": "code",
   "execution_count": null,
   "metadata": {},
   "outputs": [],
   "source": [
    "#TODO : \n",
    "df_corr = df_yeast.corr()"
   ]
  }
 ],
 "metadata": {
  "language_info": {
   "name": "python"
  }
 },
 "nbformat": 4,
 "nbformat_minor": 2
}
