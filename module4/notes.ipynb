{
 "cells": [
  {
   "cell_type": "markdown",
   "metadata": {},
   "source": [
    "## Iterables\n",
    "Include comprehensions, iterable objects, and iterators. We can briefly discuss the lazy evaluation model with genrators.\n",
    "\n",
    "### List Comprehensions\n",
    "The shorthand of comprehensions will make your code more readable, expressive, and effective.\n",
    "\n",
    "General Form:\n",
    "`[expr(item) for item in iterable]`"
   ]
  },
  {
   "cell_type": "code",
   "execution_count": 4,
   "metadata": {},
   "outputs": [
    {
     "data": {
      "text/plain": [
       "['Today', 'I', 'am', 'very', 'happy', 'to', 'learn', 'about', 'comprehensions']"
      ]
     },
     "execution_count": 4,
     "metadata": {},
     "output_type": "execute_result"
    }
   ],
   "source": [
    "# a big string\n",
    "words = \"Today I am very happy to learn about comprehensions\".split()\n",
    "words"
   ]
  },
  {
   "cell_type": "code",
   "execution_count": 6,
   "metadata": {},
   "outputs": [
    {
     "name": "stdout",
     "output_type": "stream",
     "text": [
      "['Today', 'I', 'am', 'very', 'happy', 'to', 'learn', 'about', 'comprehensions']\n",
      "[5, 1, 2, 4, 5, 2, 5, 5, 14]\n"
     ]
    }
   ],
   "source": [
    "# Create a new list with the length of each string from words\n",
    "lengths = []\n",
    "for word in words:\n",
    "    lengths.append(len(word))\n",
    "print(words)\n",
    "print (lengths)"
   ]
  },
  {
   "cell_type": "code",
   "execution_count": 7,
   "metadata": {},
   "outputs": [
    {
     "name": "stdout",
     "output_type": "stream",
     "text": [
      "[5, 1, 2, 4, 5, 2, 5, 5, 14]\n"
     ]
    }
   ],
   "source": [
    "# Use a list comprehension instead\n",
    "lengths = [len(word) for word in words]\n",
    "print(lengths)\n"
   ]
  },
  {
   "cell_type": "code",
   "execution_count": 13,
   "metadata": {},
   "outputs": [
    {
     "name": "stdout",
     "output_type": "stream",
     "text": [
      "First 20 factorial numbers are [1, 1, 1, 2, 3, 3, 4, 5, 6, 7, 8, 9, 10, 11, 13, 14, 15, 16, 18, 19]\n"
     ]
    }
   ],
   "source": [
    "# TASK: Using a list comprehension, calculate the length(number of digits) of the first 20 factorial numbers\n",
    "from math import factorial as fact\n",
    "factorial_length = [len(str(fact(number))) for number in range(1, 21)]\n",
    "print(f\"First 20 factorial numbers are {factorial_length}\")"
   ]
  },
  {
   "cell_type": "markdown",
   "metadata": {},
   "source": [
    "### Set Comprehensions\n",
    "\n",
    "General Form:\n",
    "`{expr(item) for item in iterable}`"
   ]
  },
  {
   "cell_type": "code",
   "execution_count": 14,
   "metadata": {},
   "outputs": [
    {
     "name": "stdout",
     "output_type": "stream",
     "text": [
      "First 20 factorial numbers are {1, 2, 3, 4, 5, 6, 7, 8, 9, 10, 11, 13, 14, 15, 16, 18, 19}\n"
     ]
    }
   ],
   "source": [
    "# TASK: Creat a list of unique length of the first 20 factorial\n",
    "factorial_length = {len(str(fact(number))) for number in range(1, 21)}\n",
    "print(f\"First 20 factorial numbers are {factorial_length}\")"
   ]
  },
  {
   "cell_type": "markdown",
   "metadata": {},
   "source": [
    "### Dictionary Comprehensions\n",
    "General Form:\n",
    "\n",
    "`{expr(item):expr(item) for item in iterable}`"
   ]
  },
  {
   "cell_type": "code",
   "execution_count": 19,
   "metadata": {},
   "outputs": [
    {
     "name": "stdout",
     "output_type": "stream",
     "text": [
      "{'Warriors': 'San Francisco', 'Lakers': 'Los Angeles', 'Celtics': 'Boston'}\n",
      "{'San Francisco': 'Warriors', 'Los Angeles': 'Lakers', 'Boston': 'Celtics'}\n"
     ]
    }
   ],
   "source": [
    "nba_teams = {\"Warriors\":\"San Francisco\", \"Lakers\":\"Los Angeles\", \"Celtics\":\"Boston\"}\n",
    "# Create dictionary comprehension\n",
    "teams_nba = {city:mascot for mascot, city in nba_teams.items()}\n",
    "print(nba_teams)\n",
    "print(teams_nba)"
   ]
  },
  {
   "cell_type": "markdown",
   "metadata": {},
   "source": [
    "### Filtering Predicates\n",
    "You may use an `optional` filtering predicate\n",
    "\n",
    "General Form:\n",
    "\n",
    "`[expr(item) for item in iterable if predicate(item)]`"
   ]
  },
  {
   "cell_type": "code",
   "execution_count": 27,
   "metadata": {},
   "outputs": [
    {
     "name": "stdout",
     "output_type": "stream",
     "text": [
      "Prime numbers from 1 to 100: [2, 3, 5, 7, 11, 13, 17, 19, 23, 29, 31, 37, 41, 43, 47, 53, 59, 61, 67, 71, 73, 79, 83, 89, 97]\n"
     ]
    }
   ],
   "source": [
    "from math import sqrt\n",
    "def is_prime(number):\n",
    "    if number < 2:\n",
    "        return False\n",
    "    for i in range(2, int(sqrt(number)) + 1):\n",
    "        if number % i == 0:\n",
    "            return False\n",
    "    return True\n",
    "# TASK: Create a list of prime numbers from 1 to 100\n",
    "prime_numbers = [number for number in range(1, 101) if is_prime(number)]\n",
    "print(f\"Prime numbers from 1 to 100: {prime_numbers}\")\n",
    "# MOMENT OF ZEN: Simple is Better than Complex\n",
    "# Code is written once, but read over and over.\n",
    "# Fewer is clearer"
   ]
  },
  {
   "cell_type": "code",
   "execution_count": 29,
   "metadata": {},
   "outputs": [],
   "source": [
    "# import this # The zen of Python"
   ]
  },
  {
   "cell_type": "markdown",
   "metadata": {},
   "source": [
    "### TODO:\n",
    "\n",
    "- Iteration Protocols\n",
    "- Generators"
   ]
  },
  {
   "cell_type": "markdown",
   "metadata": {},
   "source": []
  }
 ],
 "metadata": {
  "kernelspec": {
   "display_name": "module4",
   "language": "python",
   "name": "python3"
  },
  "language_info": {
   "codemirror_mode": {
    "name": "ipython",
    "version": 3
   },
   "file_extension": ".py",
   "mimetype": "text/x-python",
   "name": "python",
   "nbconvert_exporter": "python",
   "pygments_lexer": "ipython3",
   "version": "3.12.5"
  }
 },
 "nbformat": 4,
 "nbformat_minor": 2
}
