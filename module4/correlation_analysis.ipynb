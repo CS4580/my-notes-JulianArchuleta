{
 "cells": [
  {
   "cell_type": "markdown",
   "metadata": {},
   "source": [
    "## Correlation Analysis\n",
    "- What is correlation Analysis?\n",
    "- How does correlation analysis help with data cleaning?\n",
    "- Coding Example"
   ]
  },
  {
   "cell_type": "markdown",
   "metadata": {},
   "source": [
    "### Correlation Anyalsis\n",
    "Is a statiscal technique used to examine the strenth and direction of the relationship\n",
    "    between two or more variables.\n",
    "\n",
    "Anaylze the degree to which changes from one variable are associated with changes from another variable"
   ]
  },
  {
   "cell_type": "markdown",
   "metadata": {},
   "source": [
    "### How to do it?\n",
    "Use `Correlation Coefficients`, which is a measurement of the strength and the direction of the relationship between the two variables\n",
    "\n",
    "$$\n",
    "\\{Y, X\\}\n",
    "$$"
   ]
  },
  {
   "cell_type": "markdown",
   "metadata": {},
   "source": [
    "### Popular Correlation Coefficients\n",
    "\n",
    "#### Pearson\n",
    "- Use for continuous data\n",
    "- Measures the strength of the `linear relationships` between the variables\n",
    "- Sensitive to outliers\n",
    "\n",
    "#### Spearman\n",
    "- Use for ordinal or ranked data\n",
    "- Measures the strength of the `monotonic relationship` between the variables, which can be linear or non-linear\n",
    "- More robust toward outliers\n",
    "\n"
   ]
  },
  {
   "cell_type": "markdown",
   "metadata": {},
   "source": []
  }
 ],
 "metadata": {
  "language_info": {
   "name": "python"
  }
 },
 "nbformat": 4,
 "nbformat_minor": 2
}
